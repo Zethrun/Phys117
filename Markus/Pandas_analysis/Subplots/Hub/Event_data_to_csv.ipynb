{
 "cells": [
  {
   "cell_type": "code",
   "execution_count": 5,
   "metadata": {},
   "outputs": [
    {
     "name": "stdout",
     "output_type": "stream",
     "text": [
      "[2]\n"
     ]
    },
    {
     "ename": "IndexError",
     "evalue": "list assignment index out of range",
     "output_type": "error",
     "traceback": [
      "\u001b[1;31m---------------------------------------------------------------------------\u001b[0m",
      "\u001b[1;31mIndexError\u001b[0m                                Traceback (most recent call last)",
      "Cell \u001b[1;32mIn [5], line 49\u001b[0m\n\u001b[0;32m     47\u001b[0m         \u001b[39mfor\u001b[39;00m particle_index, particle \u001b[39min\u001b[39;00m \u001b[39menumerate\u001b[39m(particles):\n\u001b[0;32m     48\u001b[0m             \u001b[39mprint\u001b[39m(counts[:stuff_index])\n\u001b[1;32m---> 49\u001b[0m             data[event_index][particle_index \u001b[39m+\u001b[39;49m np\u001b[39m.\u001b[39;49msum(counts[:stuff_index])] \u001b[39m=\u001b[39m particle\n\u001b[0;32m     51\u001b[0m data \u001b[39m=\u001b[39m np\u001b[39m.\u001b[39marray(\u001b[39mlist\u001b[39m(data\u001b[39m.\u001b[39mvalues()))\n\u001b[0;32m     52\u001b[0m particles \u001b[39m=\u001b[39m np\u001b[39m.\u001b[39marray([stuff \u001b[39mfor\u001b[39;00m stuff_index, stuff \u001b[39min\u001b[39;00m \u001b[39menumerate\u001b[39m(stuffs) \u001b[39mfor\u001b[39;00m i \u001b[39min\u001b[39;00m \u001b[39mrange\u001b[39m(counts[stuff_index])])\n",
      "\u001b[1;31mIndexError\u001b[0m: list assignment index out of range"
     ]
    }
   ],
   "source": [
    "import matplotlib.pyplot as plt\n",
    "from tqdm import tqdm\n",
    "import pandas as pd\n",
    "import numpy as np\n",
    "import os\n",
    "\n",
    "data_path = \"C:/Users/mhals/Dropbox/PC (2)/Documents/GitHub/Phys117/Data/Pandas/Individual/\"\n",
    "folders = [\"Background\", \"BH\", \"Sphaleron\"]\n",
    "stuffs = [\"electron\", \"jet\", \"MET\", \"muon\", \"photon\", \"tau\"]\n",
    "file_amounts = [2, 18, 3]\n",
    "\n",
    "from Afiles import files\n",
    "folder_list, filenames_list = files(individual = True, data_path = data_path, folders = folders, stuffs = stuffs, file_amounts = file_amounts)\n",
    "\n",
    "\n",
    "def event_counts(event_data):\n",
    "    counts = [0 for stuff in stuffs]\n",
    "    particle_name_index = 0\n",
    "    for event in event_data:\n",
    "        for stuff_index, stuff in enumerate(stuffs):\n",
    "            count = len([0 for particle in event if particle[particle_name_index] == stuff])\n",
    "            counts[stuff_index] = count if counts[stuff_index] < count else counts[stuff_index]\n",
    "    return counts\n",
    "\n",
    "def event_data_saver(event_data):\n",
    "    event_num = len(event_data)\n",
    "    event_dict = {event_index: event_data[event_index] for event_index in range(event_num)}\n",
    "    \n",
    "\n",
    "data_variables = [\"eta\", \"phi\", \"PT\", \"jmass\", \"ntrk\", \"btag\", \"hadem\", \"event#\"]\n",
    "\n",
    "\n",
    "from DataFunc import data\n",
    "\n",
    "\n",
    "for folder_files, filenames in zip(folder_list, filenames_list):\n",
    "    for file, filename in zip(folder_files, filenames):\n",
    "        event_data = data(file, stuffs, data_variables)\n",
    "        counts = event_counts(event_data)\n",
    "\n",
    "        data = {i: [[np.nan for data_variable in data_variables]] for i in range(len(event_data))}\n",
    "        for event_index, event in enumerate(event_data):\n",
    "            for stuff_index, stuff in enumerate(stuffs):\n",
    "                count = counts[stuff_index]\n",
    "                particle_name_index = 0\n",
    "                particles = [particle for particle in event if particle[particle_name_index] == stuff]\n",
    "                for particle_index, particle in enumerate(particles):\n",
    "                    print(counts[:stuff_index])\n",
    "                    data[event_index][particle_index + np.sum(counts[:stuff_index])] = particle\n",
    "\n",
    "        data = np.array(list(data.values()))\n",
    "        particles = np.array([stuff for stuff_index, stuff in enumerate(stuffs) for i in range(counts[stuff_index])])\n",
    "        data_variables = np.array(data_variables * np.sum(counts))\n",
    "\n",
    "        event_data = pd.DataFrame(data, columns = pd.MultiIndex.from_tuples(zip(particles, data_variables)))\n",
    "\n",
    "        print(event_data)\n"
   ]
  }
 ],
 "metadata": {
  "kernelspec": {
   "display_name": "Python 3.11.0 64-bit",
   "language": "python",
   "name": "python3"
  },
  "language_info": {
   "codemirror_mode": {
    "name": "ipython",
    "version": 3
   },
   "file_extension": ".py",
   "mimetype": "text/x-python",
   "name": "python",
   "nbconvert_exporter": "python",
   "pygments_lexer": "ipython3",
   "version": "3.11.0"
  },
  "orig_nbformat": 4,
  "vscode": {
   "interpreter": {
    "hash": "f40f66f04e07c1b8a38c4056f3b37145cea1ecbceafb1a24fd56e66aa88035d8"
   }
  }
 },
 "nbformat": 4,
 "nbformat_minor": 2
}
