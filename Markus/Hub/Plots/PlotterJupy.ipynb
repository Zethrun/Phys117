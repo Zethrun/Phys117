{
 "cells": [
  {
   "cell_type": "code",
   "execution_count": 1,
   "metadata": {},
   "outputs": [],
   "source": [
    "# Import modules\n",
    "import matplotlib.pyplot as plt\n",
    "from tqdm import tqdm\n",
    "import pandas as pd\n",
    "import numpy as np\n",
    "import os\n",
    "\n",
    "data_path = \"C:/Users/mhals/Dropbox/PC (2)/Documents/GitHub/phys117/Markus/Hub/VariableData/\"\n",
    "folders = os.listdir(data_path)\n",
    "data_files = [data_path + data_file for data_file in folders]\n",
    "stuffs = [\"electron\", \"jet\", \"MET\", \"muon\", \"photon\", \"tau\"]\n",
    "data_variables = [\"met\", \"HT\", \"stuff_amount\", \"ptmax\", \"phi_diff\"]\n",
    "file_amounts = [2, 18, 3]\n",
    "\n",
    "\n",
    "def unpacker(folder_data, new_folder_data):\n",
    "    for nested_list in folder_data:\n",
    "        if type(nested_list) == list:\n",
    "            unpacker(nested_list, new_folder_data)\n",
    "        else:\n",
    "            new_folder_data.append(nested_list)\n",
    "    folder_data = new_folder_data\n",
    "    return folder_data\n",
    "\n",
    "\n",
    "def data_binner(data, binsize):\n",
    "    data = unpacker(data, [])\n",
    "\n",
    "    if len(data) == 0:\n",
    "        x = [bin * binsize for bin in range(200)]\n",
    "        y = [0 for bin in range(200)]\n",
    "        return x, y\n",
    "\n",
    "    max_value = np.max(data)\n",
    "    bins = int(np.round(max_value / binsize))\n",
    "    bins = np.arange(0, bins)\n",
    "    data = np.array(data)\n",
    "    x, y = [], []\n",
    "\n",
    "    for bin in range(len(bins)):\n",
    "        temp = data\n",
    "        temp = temp[temp <= (bin + 1/2)*binsize]\n",
    "        temp = temp[(bin - 1/2)*binsize < temp]\n",
    "        if len(temp) != 0:\n",
    "            y.append(len(temp))\n",
    "            x.append(bin*binsize)\n",
    "\n",
    "    y = y/np.sum(y)\n",
    "\n",
    "    return x, y\n",
    "\n",
    "\n",
    "def plot_filter(interval_data, filter_strength):\n",
    "    interval_data = sorted(interval_data)\n",
    "    cutoff = round((len(interval_data) * filter_strength))\n",
    "    interval_data = interval_data[:cutoff]\n",
    "    x_min = np.min(interval_data)\n",
    "    x_max = np.max(interval_data)\n",
    "    extra = (x_max - x_min) / 10\n",
    "    return [x_min - extra, x_max + extra]\n",
    "\n",
    "\n",
    "def sampler(output_dataframe, output_filenames, file_amounts, combine_data):\n",
    "    from random import sample\n",
    "\n",
    "    output_dataframe = [[(dataframe, filename) for dataframe, filename in zip(dataframes, filenames)] for dataframes, filenames in zip(output_dataframe, output_filenames)]\n",
    "    samples = [sample(dataframes, file_amount) for dataframes, file_amount in zip(output_dataframe, file_amounts)]\n",
    "\n",
    "    if combine_data:\n",
    "        output_dataframe = [pd.concat([sample[0] for sample in dataframes]) for dataframes in samples]\n",
    "        labels = folders\n",
    "    else:\n",
    "        output_dataframe = [sample[0] for dataframes in samples for sample in dataframes]\n",
    "        labels = [sample[1] for dataframes in samples for sample in dataframes]\n",
    "    \n",
    "    output_dataframe = unpacker(output_dataframe, [])\n",
    "    lables = unpacker(labels, [])\n",
    "        \n",
    "\n",
    "    return output_dataframe, labels\n",
    "\n",
    "\n",
    "def plotter(data_variables, output_dataframe, output_filenames, filter_strengths, binsizes):\n",
    "\n",
    "    for variable_index, variable in enumerate(data_variables):\n",
    "        fig = plt.figure()\n",
    "        style = \"seaborn-v0_8-darkgrid\"\n",
    "        plt.style.use(style)\n",
    "        title = variable + \" Distribution\"\n",
    "        fig.suptitle(title)\n",
    "        plt.xlabel(variable)\n",
    "        plt.ylabel(\"frequency\")\n",
    "\n",
    "        binsize = binsizes[variable_index] if type(binsizes) == list else binsizes\n",
    "        filter_strength = filter_strengths[variable_index] if type(filter_strengths) == list else filter_strengths\n",
    "        interval = np.concatenate([dataframe[variable] for dataframe in output_dataframe])\n",
    "        plt.xlim(plot_filter(interval, filter_strength))\n",
    "\n",
    "        for dataframe, label in zip(output_dataframe, output_filenames):\n",
    "            raw_data = dataframe[variable]\n",
    "            bins, counts = data_binner(raw_data, binsize)\n",
    "            plt.plot(bins, counts, label = label)\n",
    "        \n",
    "        plt.legend(prop = {'size': 8})\n",
    "        plt.show()"
   ]
  },
  {
   "cell_type": "code",
   "execution_count": 2,
   "metadata": {},
   "outputs": [
    {
     "ename": "ModuleNotFoundError",
     "evalue": "No module named 'Hub'",
     "output_type": "error",
     "traceback": [
      "\u001b[1;31m---------------------------------------------------------------------------\u001b[0m",
      "\u001b[1;31mModuleNotFoundError\u001b[0m                       Traceback (most recent call last)",
      "Cell \u001b[1;32mIn [2], line 3\u001b[0m\n\u001b[0;32m      1\u001b[0m \u001b[39mimport\u001b[39;00m \u001b[39msys\u001b[39;00m\n\u001b[0;32m      2\u001b[0m sys\u001b[39m.\u001b[39mpath\u001b[39m.\u001b[39mappend(\u001b[39m\"\u001b[39m\u001b[39m../Hub\u001b[39m\u001b[39m\"\u001b[39m)\n\u001b[1;32m----> 3\u001b[0m \u001b[39mfrom\u001b[39;00m \u001b[39mHub\u001b[39;00m\u001b[39m.\u001b[39;00m\u001b[39mFilesFunc\u001b[39;00m \u001b[39mimport\u001b[39;00m files\n\u001b[0;32m      4\u001b[0m folder_list, filename_list \u001b[39m=\u001b[39m files(data_path, folders, stuffs, file_amounts)\n\u001b[0;32m      7\u001b[0m foldered_dataframes \u001b[39m=\u001b[39m [[pd\u001b[39m.\u001b[39mread_csv(data_file) \u001b[39mfor\u001b[39;00m data_file \u001b[39min\u001b[39;00m folder_files] \u001b[39mfor\u001b[39;00m folder_files \u001b[39min\u001b[39;00m folder_list]\n",
      "\u001b[1;31mModuleNotFoundError\u001b[0m: No module named 'Hub'"
     ]
    }
   ],
   "source": [
    "import sys\n",
    "sys.path.append(\"../Hub\")\n",
    "from Hub.FilesFunc import files\n",
    "folder_list, filename_list = files(data_path, folders, stuffs, file_amounts)\n",
    "\n",
    "\n",
    "foldered_dataframes = [[pd.read_csv(data_file) for data_file in folder_files] for folder_files in folder_list]"
   ]
  },
  {
   "cell_type": "code",
   "execution_count": null,
   "metadata": {},
   "outputs": [],
   "source": [
    "data_sample, labels = sampler(foldered_dataframes, filename_list, file_amounts = [0, 18, 3], combine_data = False)"
   ]
  },
  {
   "cell_type": "code",
   "execution_count": null,
   "metadata": {},
   "outputs": [],
   "source": [
    "plotter(data_variables, data_sample, labels, filter_strengths = [0.95, 0.975, 0.99, 0.95, 1], binsizes = [50, 50, 0.5, 50, 0.2])"
   ]
  },
  {
   "cell_type": "code",
   "execution_count": null,
   "metadata": {},
   "outputs": [],
   "source": []
  }
 ],
 "metadata": {
  "kernelspec": {
   "display_name": "Python 3.11.0 64-bit",
   "language": "python",
   "name": "python3"
  },
  "language_info": {
   "codemirror_mode": {
    "name": "ipython",
    "version": 3
   },
   "file_extension": ".py",
   "mimetype": "text/x-python",
   "name": "python",
   "nbconvert_exporter": "python",
   "pygments_lexer": "ipython3",
   "version": "3.11.0"
  },
  "orig_nbformat": 4,
  "vscode": {
   "interpreter": {
    "hash": "f40f66f04e07c1b8a38c4056f3b37145cea1ecbceafb1a24fd56e66aa88035d8"
   }
  }
 },
 "nbformat": 4,
 "nbformat_minor": 2
}
